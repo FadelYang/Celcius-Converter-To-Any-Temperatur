{
  "nbformat": 4,
  "nbformat_minor": 0,
  "metadata": {
    "colab": {
      "provenance": [],
      "collapsed_sections": [
        "LJBlERokHKyH"
      ],
      "authorship_tag": "ABX9TyMQhWg5ShOZ8RzOkAMBTevv"
    },
    "kernelspec": {
      "name": "python3",
      "display_name": "Python 3"
    },
    "language_info": {
      "name": "python"
    }
  },
  "cells": [
    {
      "cell_type": "code",
      "source": [
        "# SKIP\n",
        "%tensorflow_version 2.x"
      ],
      "metadata": {
        "colab": {
          "base_uri": "https://localhost:8080/"
        },
        "id": "AWeJIK4iNWEx",
        "outputId": "dbd13ad9-f63b-45df-bcb3-abeef6973582"
      },
      "execution_count": 10,
      "outputs": [
        {
          "output_type": "stream",
          "name": "stdout",
          "text": [
            "Colab only includes TensorFlow 2.x; %tensorflow_version has no effect.\n"
          ]
        }
      ]
    },
    {
      "cell_type": "markdown",
      "source": [
        "# Data Gathering"
      ],
      "metadata": {
        "id": "lsoeNaeJFQcR"
      }
    },
    {
      "cell_type": "markdown",
      "source": [
        "## Install xterm for terminal stuff needs"
      ],
      "metadata": {
        "id": "LJBlERokHKyH"
      }
    },
    {
      "cell_type": "code",
      "source": [
        "# # SKIP when running all cell, uncomment it if you want run it\n",
        "# !pip install colab-xterm\n",
        "# %load_ext colabxterm"
      ],
      "metadata": {
        "id": "c6CAJGK6DhWc",
        "colab": {
          "base_uri": "https://localhost:8080/"
        },
        "outputId": "85d0fd0f-b225-40bb-c142-474a25887aa2"
      },
      "execution_count": 19,
      "outputs": [
        {
          "output_type": "stream",
          "name": "stdout",
          "text": [
            "Requirement already satisfied: colab-xterm in /usr/local/lib/python3.10/dist-packages (0.2.0)\n",
            "Requirement already satisfied: ptyprocess~=0.7.0 in /usr/local/lib/python3.10/dist-packages (from colab-xterm) (0.7.0)\n",
            "Requirement already satisfied: tornado>5.1 in /usr/local/lib/python3.10/dist-packages (from colab-xterm) (6.3.3)\n",
            "\u001b[31mERROR: Operation cancelled by user\u001b[0m\u001b[31m\n",
            "\u001b[0mThe colabxterm extension is already loaded. To reload it, use:\n",
            "  %reload_ext colabxterm\n"
          ]
        }
      ]
    },
    {
      "cell_type": "code",
      "source": [
        "# # SKIP when running all cell, uncomment it if you want run it\n",
        "# %xterm"
      ],
      "metadata": {
        "id": "jQPfU_B8FL7d"
      },
      "execution_count": 26,
      "outputs": []
    },
    {
      "cell_type": "markdown",
      "source": [
        "## Connect Colab To Kaggle And Gathering Data"
      ],
      "metadata": {
        "id": "zbOem9UiIV3d"
      }
    },
    {
      "cell_type": "code",
      "source": [
        "# # SKIP when running all cell, uncomment it if you want run it\n",
        "# !pip install kaggle"
      ],
      "metadata": {
        "id": "mi6UWozCIVJl",
        "colab": {
          "base_uri": "https://localhost:8080/"
        },
        "collapsed": true,
        "outputId": "2feac180-b3e3-4c25-b7c2-cb49b80df7a0"
      },
      "execution_count": 21,
      "outputs": [
        {
          "output_type": "stream",
          "name": "stdout",
          "text": [
            "Requirement already satisfied: kaggle in /usr/local/lib/python3.10/dist-packages (1.6.14)\n",
            "Requirement already satisfied: six>=1.10 in /usr/local/lib/python3.10/dist-packages (from kaggle) (1.16.0)\n",
            "Requirement already satisfied: certifi>=2023.7.22 in /usr/local/lib/python3.10/dist-packages (from kaggle) (2024.2.2)\n",
            "Requirement already satisfied: python-dateutil in /usr/local/lib/python3.10/dist-packages (from kaggle) (2.8.2)\n",
            "Requirement already satisfied: requests in /usr/local/lib/python3.10/dist-packages (from kaggle) (2.31.0)\n",
            "Requirement already satisfied: tqdm in /usr/local/lib/python3.10/dist-packages (from kaggle) (4.66.4)\n",
            "Requirement already satisfied: python-slugify in /usr/local/lib/python3.10/dist-packages (from kaggle) (8.0.4)\n",
            "Requirement already satisfied: urllib3 in /usr/local/lib/python3.10/dist-packages (from kaggle) (2.0.7)\n",
            "Requirement already satisfied: bleach in /usr/local/lib/python3.10/dist-packages (from kaggle) (6.1.0)\n",
            "Requirement already satisfied: webencodings in /usr/local/lib/python3.10/dist-packages (from bleach->kaggle) (0.5.1)\n",
            "Requirement already satisfied: text-unidecode>=1.3 in /usr/local/lib/python3.10/dist-packages (from python-slugify->kaggle) (1.3)\n",
            "Requirement already satisfied: charset-normalizer<4,>=2 in /usr/local/lib/python3.10/dist-packages (from requests->kaggle) (3.3.2)\n",
            "Requirement already satisfied: idna<4,>=2.5 in /usr/local/lib/python3.10/dist-packages (from requests->kaggle) (3.7)\n",
            "\u001b[31mERROR: Operation cancelled by user\u001b[0m\u001b[31m\n",
            "\u001b[0m"
          ]
        }
      ]
    },
    {
      "cell_type": "code",
      "source": [
        "# # SKIP when running all cell, uncomment it if you want run it\n",
        "# # Copy kaggle.json to /root/.kaggle/ folder so that kaggle cli can access it.\n",
        "# !mkdir /.kaggle\n",
        "# !mv kaggle.json /.kaggle\n",
        "# !mv /.kaggle /root/\n",
        "# !chmod 600 ~/.kaggle/kaggle.json"
      ],
      "metadata": {
        "id": "UOtEh5Q5JDuE",
        "colab": {
          "base_uri": "https://localhost:8080/"
        },
        "outputId": "b48748a5-a9f1-4cc8-b96f-6aa1c49eb27b"
      },
      "execution_count": 22,
      "outputs": [
        {
          "output_type": "stream",
          "name": "stdout",
          "text": [
            "mv: cannot stat 'kaggle.json': No such file or directory\n",
            "mv: cannot move '/.kaggle' to '/root/.kaggle': Directory not empty\n"
          ]
        }
      ]
    },
    {
      "cell_type": "code",
      "source": [
        "# # SKIP when running all cell, uncomment it if you want run it\n",
        "# !kaggle datasets download -d kshitizgajurel042/recyclable-images-with-annotations-for-detection"
      ],
      "metadata": {
        "colab": {
          "base_uri": "https://localhost:8080/"
        },
        "collapsed": true,
        "id": "s_Zfso1eJeWB",
        "outputId": "0b54dd61-9c60-4c5f-b4c4-67b203f19df3"
      },
      "execution_count": 23,
      "outputs": [
        {
          "output_type": "stream",
          "name": "stdout",
          "text": [
            "Dataset URL: https://www.kaggle.com/datasets/kshitizgajurel042/recyclable-images-with-annotations-for-detection\n",
            "License(s): unknown\n",
            "recyclable-images-with-annotations-for-detection.zip: Skipping, found more recently modified local copy (use --force to force download)\n"
          ]
        }
      ]
    },
    {
      "cell_type": "code",
      "source": [
        "# # SKIP when running all cell, uncomment it if you want run it\n",
        "# !unzip recyclable-images-with-annotations-for-detection.zip"
      ],
      "metadata": {
        "colab": {
          "base_uri": "https://localhost:8080/"
        },
        "collapsed": true,
        "id": "G6WCymBpJqp1",
        "outputId": "c1070b1a-664a-4c33-ff99-780afb672198"
      },
      "execution_count": 27,
      "outputs": [
        {
          "output_type": "stream",
          "name": "stdout",
          "text": [
            "Archive:  recyclable-images-with-annotations-for-detection.zip\n",
            "replace Final Data/images/train/1.jpg? [y]es, [n]o, [A]ll, [N]one, [r]ename: "
          ]
        }
      ]
    },
    {
      "cell_type": "code",
      "source": [
        "# # SKIP when running all cell, uncomment it if you want run it\n",
        "# !mv Final_Data recycleable-images-dataset\n",
        "# !rm -r 'Final Data'"
      ],
      "metadata": {
        "id": "dtVDI67JKHNM"
      },
      "execution_count": 1,
      "outputs": []
    },
    {
      "cell_type": "markdown",
      "source": [],
      "metadata": {
        "id": "rptlrflZOMee"
      }
    }
  ]
}